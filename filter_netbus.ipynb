{
 "cells": [
  {
   "cell_type": "code",
   "execution_count": 31,
   "metadata": {
    "collapsed": true
   },
   "outputs": [],
   "source": [
    "import pandas as pd\n",
    "import numpy as np\n",
    "import matplotlib.pyplot as plt"
   ]
  },
  {
   "cell_type": "code",
   "execution_count": 32,
   "metadata": {
    "collapsed": true
   },
   "outputs": [],
   "source": [
    "%matplotlib inline"
   ]
  },
  {
   "cell_type": "code",
   "execution_count": 33,
   "metadata": {
    "collapsed": false
   },
   "outputs": [
    {
     "data": {
      "text/html": [
       "<div style=\"max-height:1000px;max-width:1500px;overflow:auto;\">\n",
       "<table border=\"1\" class=\"dataframe\">\n",
       "  <thead>\n",
       "    <tr style=\"text-align: right;\">\n",
       "      <th></th>\n",
       "      <th>Time</th>\n",
       "      <th>Source</th>\n",
       "      <th>Destination</th>\n",
       "      <th>Protocol</th>\n",
       "      <th>Length</th>\n",
       "      <th>Info</th>\n",
       "    </tr>\n",
       "  </thead>\n",
       "  <tbody>\n",
       "    <tr>\n",
       "      <th>0</th>\n",
       "      <td>2011-11-16 10:31:01</td>\n",
       "      <td>       10.10.10.15</td>\n",
       "      <td>       10.10.10.25</td>\n",
       "      <td> SMB</td>\n",
       "      <td> 107</td>\n",
       "      <td>                                    Echo Request</td>\n",
       "    </tr>\n",
       "    <tr>\n",
       "      <th>1</th>\n",
       "      <td>2011-11-16 10:31:01</td>\n",
       "      <td> Tp-LinkT_80:e5:1a</td>\n",
       "      <td>         Broadcast</td>\n",
       "      <td> ARP</td>\n",
       "      <td>  60</td>\n",
       "      <td>          Who has 10.10.10.15?  Tell 10.10.10.25</td>\n",
       "    </tr>\n",
       "    <tr>\n",
       "      <th>2</th>\n",
       "      <td>2011-11-16 10:31:01</td>\n",
       "      <td> Tp-LinkT_b5:79:3f</td>\n",
       "      <td> Tp-LinkT_80:e5:1a</td>\n",
       "      <td> ARP</td>\n",
       "      <td>  60</td>\n",
       "      <td>             10.10.10.15 is at 00:23:cd:b5:79:3f</td>\n",
       "    </tr>\n",
       "    <tr>\n",
       "      <th>3</th>\n",
       "      <td>2011-11-16 10:31:01</td>\n",
       "      <td>       10.10.10.25</td>\n",
       "      <td>       10.10.10.15</td>\n",
       "      <td> SMB</td>\n",
       "      <td> 107</td>\n",
       "      <td>                                   Echo Response</td>\n",
       "    </tr>\n",
       "    <tr>\n",
       "      <th>4</th>\n",
       "      <td>2011-11-16 10:31:01</td>\n",
       "      <td>       10.10.10.15</td>\n",
       "      <td>       10.10.10.25</td>\n",
       "      <td> TCP</td>\n",
       "      <td>  60</td>\n",
       "      <td> 20964 &gt; 445 [ACK] Seq=54 Ack=54 Win=16884 Len=0</td>\n",
       "    </tr>\n",
       "  </tbody>\n",
       "</table>\n",
       "</div>"
      ],
      "text/plain": [
       "                 Time             Source        Destination Protocol  Length  \\\n",
       "0 2011-11-16 10:31:01        10.10.10.15        10.10.10.25      SMB     107   \n",
       "1 2011-11-16 10:31:01  Tp-LinkT_80:e5:1a          Broadcast      ARP      60   \n",
       "2 2011-11-16 10:31:01  Tp-LinkT_b5:79:3f  Tp-LinkT_80:e5:1a      ARP      60   \n",
       "3 2011-11-16 10:31:01        10.10.10.25        10.10.10.15      SMB     107   \n",
       "4 2011-11-16 10:31:01        10.10.10.15        10.10.10.25      TCP      60   \n",
       "\n",
       "                                              Info  \n",
       "0                                     Echo Request  \n",
       "1           Who has 10.10.10.15?  Tell 10.10.10.25  \n",
       "2              10.10.10.15 is at 00:23:cd:b5:79:3f  \n",
       "3                                    Echo Response  \n",
       "4  20964 > 445 [ACK] Seq=54 Ack=54 Win=16884 Len=0  "
      ]
     },
     "execution_count": 33,
     "metadata": {},
     "output_type": "execute_result"
    }
   ],
   "source": [
    "rhpass=pd.read_csv(\"netbus.csv\", parse_dates=['Time'])\n",
    "rhpass.head()"
   ]
  },
  {
   "cell_type": "code",
   "execution_count": 34,
   "metadata": {
    "collapsed": true
   },
   "outputs": [],
   "source": [
    "rhpass[\"Type\"] = rhpass.apply(lambda x: \"Client\" if x[\"Source\"] == rhpass.irow(0)[\"Source\"] else \"Server\", axis=1)"
   ]
  },
  {
   "cell_type": "code",
   "execution_count": 35,
   "metadata": {
    "collapsed": false
   },
   "outputs": [
    {
     "data": {
      "text/html": [
       "<div style=\"max-height:1000px;max-width:1500px;overflow:auto;\">\n",
       "<table border=\"1\" class=\"dataframe\">\n",
       "  <thead>\n",
       "    <tr style=\"text-align: right;\">\n",
       "      <th></th>\n",
       "      <th>Time</th>\n",
       "      <th>Source</th>\n",
       "      <th>Destination</th>\n",
       "      <th>Protocol</th>\n",
       "      <th>Length</th>\n",
       "      <th>Info</th>\n",
       "      <th>Type</th>\n",
       "    </tr>\n",
       "  </thead>\n",
       "  <tbody>\n",
       "    <tr>\n",
       "      <th>0</th>\n",
       "      <td>2011-11-16 10:31:01</td>\n",
       "      <td>       10.10.10.15</td>\n",
       "      <td>       10.10.10.25</td>\n",
       "      <td> SMB</td>\n",
       "      <td> 107</td>\n",
       "      <td>                                    Echo Request</td>\n",
       "      <td> Client</td>\n",
       "    </tr>\n",
       "    <tr>\n",
       "      <th>1</th>\n",
       "      <td>2011-11-16 10:31:01</td>\n",
       "      <td> Tp-LinkT_80:e5:1a</td>\n",
       "      <td>         Broadcast</td>\n",
       "      <td> ARP</td>\n",
       "      <td>  60</td>\n",
       "      <td>          Who has 10.10.10.15?  Tell 10.10.10.25</td>\n",
       "      <td> Server</td>\n",
       "    </tr>\n",
       "    <tr>\n",
       "      <th>2</th>\n",
       "      <td>2011-11-16 10:31:01</td>\n",
       "      <td> Tp-LinkT_b5:79:3f</td>\n",
       "      <td> Tp-LinkT_80:e5:1a</td>\n",
       "      <td> ARP</td>\n",
       "      <td>  60</td>\n",
       "      <td>             10.10.10.15 is at 00:23:cd:b5:79:3f</td>\n",
       "      <td> Server</td>\n",
       "    </tr>\n",
       "    <tr>\n",
       "      <th>3</th>\n",
       "      <td>2011-11-16 10:31:01</td>\n",
       "      <td>       10.10.10.25</td>\n",
       "      <td>       10.10.10.15</td>\n",
       "      <td> SMB</td>\n",
       "      <td> 107</td>\n",
       "      <td>                                   Echo Response</td>\n",
       "      <td> Server</td>\n",
       "    </tr>\n",
       "    <tr>\n",
       "      <th>4</th>\n",
       "      <td>2011-11-16 10:31:01</td>\n",
       "      <td>       10.10.10.15</td>\n",
       "      <td>       10.10.10.25</td>\n",
       "      <td> TCP</td>\n",
       "      <td>  60</td>\n",
       "      <td> 20964 &gt; 445 [ACK] Seq=54 Ack=54 Win=16884 Len=0</td>\n",
       "      <td> Client</td>\n",
       "    </tr>\n",
       "  </tbody>\n",
       "</table>\n",
       "</div>"
      ],
      "text/plain": [
       "                 Time             Source        Destination Protocol  Length  \\\n",
       "0 2011-11-16 10:31:01        10.10.10.15        10.10.10.25      SMB     107   \n",
       "1 2011-11-16 10:31:01  Tp-LinkT_80:e5:1a          Broadcast      ARP      60   \n",
       "2 2011-11-16 10:31:01  Tp-LinkT_b5:79:3f  Tp-LinkT_80:e5:1a      ARP      60   \n",
       "3 2011-11-16 10:31:01        10.10.10.25        10.10.10.15      SMB     107   \n",
       "4 2011-11-16 10:31:01        10.10.10.15        10.10.10.25      TCP      60   \n",
       "\n",
       "                                              Info    Type  \n",
       "0                                     Echo Request  Client  \n",
       "1           Who has 10.10.10.15?  Tell 10.10.10.25  Server  \n",
       "2              10.10.10.15 is at 00:23:cd:b5:79:3f  Server  \n",
       "3                                    Echo Response  Server  \n",
       "4  20964 > 445 [ACK] Seq=54 Ack=54 Win=16884 Len=0  Client  "
      ]
     },
     "execution_count": 35,
     "metadata": {},
     "output_type": "execute_result"
    }
   ],
   "source": [
    "rhpass.head()"
   ]
  },
  {
   "cell_type": "code",
   "execution_count": 36,
   "metadata": {
    "collapsed": false
   },
   "outputs": [
    {
     "data": {
      "text/html": [
       "<div style=\"max-height:1000px;max-width:1500px;overflow:auto;\">\n",
       "<table border=\"1\" class=\"dataframe\">\n",
       "  <thead>\n",
       "    <tr style=\"text-align: right;\">\n",
       "      <th></th>\n",
       "      <th>Length</th>\n",
       "      <th>Time</th>\n",
       "      <th>Info</th>\n",
       "    </tr>\n",
       "  </thead>\n",
       "  <tbody>\n",
       "    <tr>\n",
       "      <th>0</th>\n",
       "      <td> 107</td>\n",
       "      <td>2011-11-16 10:31:01</td>\n",
       "      <td>                                    Echo Request</td>\n",
       "    </tr>\n",
       "    <tr>\n",
       "      <th>1</th>\n",
       "      <td>  60</td>\n",
       "      <td>2011-11-16 10:31:01</td>\n",
       "      <td>          Who has 10.10.10.15?  Tell 10.10.10.25</td>\n",
       "    </tr>\n",
       "    <tr>\n",
       "      <th>2</th>\n",
       "      <td>  60</td>\n",
       "      <td>2011-11-16 10:31:01</td>\n",
       "      <td>             10.10.10.15 is at 00:23:cd:b5:79:3f</td>\n",
       "    </tr>\n",
       "    <tr>\n",
       "      <th>3</th>\n",
       "      <td> 107</td>\n",
       "      <td>2011-11-16 10:31:01</td>\n",
       "      <td>                                   Echo Response</td>\n",
       "    </tr>\n",
       "    <tr>\n",
       "      <th>4</th>\n",
       "      <td>  60</td>\n",
       "      <td>2011-11-16 10:31:01</td>\n",
       "      <td> 20964 &gt; 445 [ACK] Seq=54 Ack=54 Win=16884 Len=0</td>\n",
       "    </tr>\n",
       "  </tbody>\n",
       "</table>\n",
       "</div>"
      ],
      "text/plain": [
       "   Length                Time                                             Info\n",
       "0     107 2011-11-16 10:31:01                                     Echo Request\n",
       "1      60 2011-11-16 10:31:01           Who has 10.10.10.15?  Tell 10.10.10.25\n",
       "2      60 2011-11-16 10:31:01              10.10.10.15 is at 00:23:cd:b5:79:3f\n",
       "3     107 2011-11-16 10:31:01                                    Echo Response\n",
       "4      60 2011-11-16 10:31:01  20964 > 445 [ACK] Seq=54 Ack=54 Win=16884 Len=0"
      ]
     },
     "execution_count": 36,
     "metadata": {},
     "output_type": "execute_result"
    }
   ],
   "source": [
    "infodata2 = rhpass[['Length','Time','Info']]\n",
    "infodata2.head()"
   ]
  },
  {
   "cell_type": "code",
   "execution_count": 37,
   "metadata": {
    "collapsed": false
   },
   "outputs": [
    {
     "data": {
      "text/html": [
       "<div style=\"max-height:1000px;max-width:1500px;overflow:auto;\">\n",
       "<table border=\"1\" class=\"dataframe\">\n",
       "  <thead>\n",
       "    <tr style=\"text-align: right;\">\n",
       "      <th></th>\n",
       "      <th>Length</th>\n",
       "      <th>Info</th>\n",
       "    </tr>\n",
       "    <tr>\n",
       "      <th>Time</th>\n",
       "      <th></th>\n",
       "      <th></th>\n",
       "    </tr>\n",
       "  </thead>\n",
       "  <tbody>\n",
       "    <tr>\n",
       "      <th>2011-11-16 10:31:01</th>\n",
       "      <td> 107</td>\n",
       "      <td>                                    Echo Request</td>\n",
       "    </tr>\n",
       "    <tr>\n",
       "      <th>2011-11-16 10:31:01</th>\n",
       "      <td>  60</td>\n",
       "      <td>          Who has 10.10.10.15?  Tell 10.10.10.25</td>\n",
       "    </tr>\n",
       "    <tr>\n",
       "      <th>2011-11-16 10:31:01</th>\n",
       "      <td>  60</td>\n",
       "      <td>             10.10.10.15 is at 00:23:cd:b5:79:3f</td>\n",
       "    </tr>\n",
       "    <tr>\n",
       "      <th>2011-11-16 10:31:01</th>\n",
       "      <td> 107</td>\n",
       "      <td>                                   Echo Response</td>\n",
       "    </tr>\n",
       "    <tr>\n",
       "      <th>2011-11-16 10:31:01</th>\n",
       "      <td>  60</td>\n",
       "      <td> 20964 &gt; 445 [ACK] Seq=54 Ack=54 Win=16884 Len=0</td>\n",
       "    </tr>\n",
       "  </tbody>\n",
       "</table>\n",
       "</div>"
      ],
      "text/plain": [
       "                     Length                                             Info\n",
       "Time                                                                        \n",
       "2011-11-16 10:31:01     107                                     Echo Request\n",
       "2011-11-16 10:31:01      60           Who has 10.10.10.15?  Tell 10.10.10.25\n",
       "2011-11-16 10:31:01      60              10.10.10.15 is at 00:23:cd:b5:79:3f\n",
       "2011-11-16 10:31:01     107                                    Echo Response\n",
       "2011-11-16 10:31:01      60  20964 > 445 [ACK] Seq=54 Ack=54 Win=16884 Len=0"
      ]
     },
     "execution_count": 37,
     "metadata": {},
     "output_type": "execute_result"
    }
   ],
   "source": [
    "infodata2 = infodata2.set_index('Time')\n",
    "infodata2.head()"
   ]
  },
  {
   "cell_type": "code",
   "execution_count": 38,
   "metadata": {
    "collapsed": false
   },
   "outputs": [
    {
     "data": {
      "text/html": [
       "<div style=\"max-height:1000px;max-width:1500px;overflow:auto;\">\n",
       "<table border=\"1\" class=\"dataframe\">\n",
       "  <thead>\n",
       "    <tr style=\"text-align: right;\">\n",
       "      <th></th>\n",
       "      <th>Length</th>\n",
       "    </tr>\n",
       "    <tr>\n",
       "      <th>Time</th>\n",
       "      <th></th>\n",
       "    </tr>\n",
       "  </thead>\n",
       "  <tbody>\n",
       "    <tr>\n",
       "      <th>2011-11-16 10:31:00</th>\n",
       "      <td> 154519</td>\n",
       "    </tr>\n",
       "    <tr>\n",
       "      <th>2011-11-16 10:32:00</th>\n",
       "      <td> 200818</td>\n",
       "    </tr>\n",
       "    <tr>\n",
       "      <th>2011-11-16 10:33:00</th>\n",
       "      <td>   2462</td>\n",
       "    </tr>\n",
       "    <tr>\n",
       "      <th>2011-11-16 10:34:00</th>\n",
       "      <td> 139743</td>\n",
       "    </tr>\n",
       "    <tr>\n",
       "      <th>2011-11-16 10:35:00</th>\n",
       "      <td>    334</td>\n",
       "    </tr>\n",
       "  </tbody>\n",
       "</table>\n",
       "</div>"
      ],
      "text/plain": [
       "                     Length\n",
       "Time                       \n",
       "2011-11-16 10:31:00  154519\n",
       "2011-11-16 10:32:00  200818\n",
       "2011-11-16 10:33:00    2462\n",
       "2011-11-16 10:34:00  139743\n",
       "2011-11-16 10:35:00     334"
      ]
     },
     "execution_count": 38,
     "metadata": {},
     "output_type": "execute_result"
    }
   ],
   "source": [
    "infodata2.resample('T',how=sum).head()"
   ]
  },
  {
   "cell_type": "code",
   "execution_count": 39,
   "metadata": {
    "collapsed": false
   },
   "outputs": [
    {
     "data": {
      "image/png": "[encoded data removed]",
      "text/plain": [
       "<matplotlib.figure.Figure at 0xa34c19ec>"
      ]
     },
     "metadata": {},
     "output_type": "display_data"
    }
   ],
   "source": [
    "infodata2_plot = infodata2.resample('T',how=sum).plot(kind=\"barh\",title=\"Frequency Netbus\",figsize=(20,4),legend=True)"
   ]
  },
  {
   "cell_type": "code",
   "execution_count": 40,
   "metadata": {
    "collapsed": true
   },
   "outputs": [],
   "source": [
    "fig = infodata2_plot.get_figure()\n",
    "fig.savefig(\"Frekuensi DOS.png\")"
   ]
  },
  {
   "cell_type": "code",
   "execution_count": 41,
   "metadata": {
    "collapsed": false
   },
   "outputs": [
    {
     "data": {
      "text/html": [
       "<div style=\"max-height:1000px;max-width:1500px;overflow:auto;\">\n",
       "<table border=\"1\" class=\"dataframe\">\n",
       "  <thead>\n",
       "    <tr style=\"text-align: right;\">\n",
       "      <th></th>\n",
       "      <th>Time</th>\n",
       "      <th>Source</th>\n",
       "      <th>Destination</th>\n",
       "      <th>Protocol</th>\n",
       "      <th>Length</th>\n",
       "      <th>Info</th>\n",
       "      <th>Type</th>\n",
       "    </tr>\n",
       "  </thead>\n",
       "  <tbody>\n",
       "    <tr>\n",
       "      <th>0</th>\n",
       "      <td>2011-11-16 10:31:01</td>\n",
       "      <td>       10.10.10.15</td>\n",
       "      <td>       10.10.10.25</td>\n",
       "      <td> SMB</td>\n",
       "      <td> 107</td>\n",
       "      <td>                                    Echo Request</td>\n",
       "      <td> Client</td>\n",
       "    </tr>\n",
       "    <tr>\n",
       "      <th>1</th>\n",
       "      <td>2011-11-16 10:31:01</td>\n",
       "      <td> Tp-LinkT_80:e5:1a</td>\n",
       "      <td>         Broadcast</td>\n",
       "      <td> ARP</td>\n",
       "      <td>  60</td>\n",
       "      <td>          Who has 10.10.10.15?  Tell 10.10.10.25</td>\n",
       "      <td> Server</td>\n",
       "    </tr>\n",
       "    <tr>\n",
       "      <th>2</th>\n",
       "      <td>2011-11-16 10:31:01</td>\n",
       "      <td> Tp-LinkT_b5:79:3f</td>\n",
       "      <td> Tp-LinkT_80:e5:1a</td>\n",
       "      <td> ARP</td>\n",
       "      <td>  60</td>\n",
       "      <td>             10.10.10.15 is at 00:23:cd:b5:79:3f</td>\n",
       "      <td> Server</td>\n",
       "    </tr>\n",
       "    <tr>\n",
       "      <th>3</th>\n",
       "      <td>2011-11-16 10:31:01</td>\n",
       "      <td>       10.10.10.25</td>\n",
       "      <td>       10.10.10.15</td>\n",
       "      <td> SMB</td>\n",
       "      <td> 107</td>\n",
       "      <td>                                   Echo Response</td>\n",
       "      <td> Server</td>\n",
       "    </tr>\n",
       "    <tr>\n",
       "      <th>4</th>\n",
       "      <td>2011-11-16 10:31:01</td>\n",
       "      <td>       10.10.10.15</td>\n",
       "      <td>       10.10.10.25</td>\n",
       "      <td> TCP</td>\n",
       "      <td>  60</td>\n",
       "      <td> 20964 &gt; 445 [ACK] Seq=54 Ack=54 Win=16884 Len=0</td>\n",
       "      <td> Client</td>\n",
       "    </tr>\n",
       "  </tbody>\n",
       "</table>\n",
       "</div>"
      ],
      "text/plain": [
       "                 Time             Source        Destination Protocol  Length  \\\n",
       "0 2011-11-16 10:31:01        10.10.10.15        10.10.10.25      SMB     107   \n",
       "1 2011-11-16 10:31:01  Tp-LinkT_80:e5:1a          Broadcast      ARP      60   \n",
       "2 2011-11-16 10:31:01  Tp-LinkT_b5:79:3f  Tp-LinkT_80:e5:1a      ARP      60   \n",
       "3 2011-11-16 10:31:01        10.10.10.25        10.10.10.15      SMB     107   \n",
       "4 2011-11-16 10:31:01        10.10.10.15        10.10.10.25      TCP      60   \n",
       "\n",
       "                                              Info    Type  \n",
       "0                                     Echo Request  Client  \n",
       "1           Who has 10.10.10.15?  Tell 10.10.10.25  Server  \n",
       "2              10.10.10.15 is at 00:23:cd:b5:79:3f  Server  \n",
       "3                                    Echo Response  Server  \n",
       "4  20964 > 445 [ACK] Seq=54 Ack=54 Win=16884 Len=0  Client  "
      ]
     },
     "execution_count": 41,
     "metadata": {},
     "output_type": "execute_result"
    }
   ],
   "source": [
    "rhpass.head()"
   ]
  },
  {
   "cell_type": "code",
   "execution_count": 42,
   "metadata": {
    "collapsed": false
   },
   "outputs": [
    {
     "data": {
      "text/html": [
       "<div style=\"max-height:1000px;max-width:1500px;overflow:auto;\">\n",
       "<table border=\"1\" class=\"dataframe\">\n",
       "  <thead>\n",
       "    <tr style=\"text-align: right;\">\n",
       "      <th></th>\n",
       "      <th></th>\n",
       "      <th></th>\n",
       "      <th>Length</th>\n",
       "    </tr>\n",
       "    <tr>\n",
       "      <th>Source</th>\n",
       "      <th>Destination</th>\n",
       "      <th>Protocol</th>\n",
       "      <th></th>\n",
       "    </tr>\n",
       "  </thead>\n",
       "  <tbody>\n",
       "    <tr>\n",
       "      <th rowspan=\"4\" valign=\"top\">10.10.10.15</th>\n",
       "      <th rowspan=\"4\" valign=\"top\">10.10.10.25</th>\n",
       "      <th>FTP</th>\n",
       "      <td>   486</td>\n",
       "    </tr>\n",
       "    <tr>\n",
       "      <th>HTTP</th>\n",
       "      <td>   403</td>\n",
       "    </tr>\n",
       "    <tr>\n",
       "      <th>SMB</th>\n",
       "      <td>   856</td>\n",
       "    </tr>\n",
       "    <tr>\n",
       "      <th>TCP</th>\n",
       "      <td> 13204</td>\n",
       "    </tr>\n",
       "    <tr>\n",
       "      <th>10.10.10.25</th>\n",
       "      <th>10.10.10.15</th>\n",
       "      <th>FTP</th>\n",
       "      <td>   644</td>\n",
       "    </tr>\n",
       "  </tbody>\n",
       "</table>\n",
       "</div>"
      ],
      "text/plain": [
       "                                  Length\n",
       "Source      Destination Protocol        \n",
       "10.10.10.15 10.10.10.25 FTP          486\n",
       "                        HTTP         403\n",
       "                        SMB          856\n",
       "                        TCP        13204\n",
       "10.10.10.25 10.10.10.15 FTP          644"
      ]
     },
     "execution_count": 42,
     "metadata": {},
     "output_type": "execute_result"
    }
   ],
   "source": [
    "category_group=rhpass.groupby(['Source','Destination','Protocol']).sum()\n",
    "category_group.head()"
   ]
  },
  {
   "cell_type": "code",
   "execution_count": 43,
   "metadata": {
    "collapsed": false,
    "scrolled": true
   },
   "outputs": [
    {
     "data": {
      "text/plain": [
       "<matplotlib.text.Text at 0xa3451fcc>"
      ]
     },
     "execution_count": 43,
     "metadata": {},
     "output_type": "execute_result"
    },
    {
     "data": {
      "image/png": "[encoded data removed]",
      "text/plain": [
       "<matplotlib.figure.Figure at 0xa33dd72c>"
      ]
     },
     "metadata": {},
     "output_type": "display_data"
    }
   ],
   "source": [
    "my_plot = category_group.plot(kind='barh',stacked=True,title=\"Frequency Netbus\",figsize=(25,10))\n",
    "my_plot.set_xlabel(\"Length Protocol\")\n",
    "my_plot.set_ylabel(\"Source IP - Destination IP\")"
   ]
  },
  {
   "cell_type": "code",
   "execution_count": 44,
   "metadata": {
    "collapsed": true
   },
   "outputs": [],
   "source": [
    "fig = infodata2_plot.get_figure()\n",
    "fig.savefig(\"Frekuensi netbus.png\")"
   ]
  }
 ],
 "metadata": {
  "kernelspec": {
   "display_name": "Python 2",
   "language": "python",
   "name": "python2"
  },
  "language_info": {
   "codemirror_mode": {
    "name": "ipython",
    "version": 2
   },
   "file_extension": ".py",
   "mimetype": "text/x-python",
   "name": "python",
   "nbconvert_exporter": "python",
   "pygments_lexer": "ipython2",
   "version": "2.7.9"
  }
 },
 "nbformat": 4,
 "nbformat_minor": 0
}
